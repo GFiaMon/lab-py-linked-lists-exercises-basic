{
 "cells": [
  {
   "cell_type": "markdown",
   "metadata": {},
   "source": [
    "## LAB | PY Linked Lists Exercises (Basic)"
   ]
  },
  {
   "cell_type": "markdown",
   "metadata": {},
   "source": [
    "\n",
    "This exercise notebook will help you practice working with linked lists in Python. You will write programs to implement various linked list operations, enhancing your understanding of data structures.\n"
   ]
  },
  {
   "cell_type": "markdown",
   "metadata": {},
   "source": [
    "\n",
    "## Instructions\n"
   ]
  },
  {
   "cell_type": "markdown",
   "metadata": {},
   "source": [
    "\n",
    "- Complete each exercise by writing the appropriate Python code.\n",
    "- Test your code to ensure it behaves as expected.\n"
   ]
  },
  {
   "cell_type": "markdown",
   "metadata": {},
   "source": [
    "\n",
    "### Exercise 1: Create a Linked List\n"
   ]
  },
  {
   "cell_type": "markdown",
   "metadata": {},
   "source": [
    "\n",
    "Write a Python program to create a linked list and display its elements.\n",
    "\n",
    "---\n"
   ]
  },
  {
   "cell_type": "code",
   "execution_count": 1,
   "metadata": {},
   "outputs": [
    {
     "data": {
      "text/plain": [
       "'# Write your code HERE\\nclass Node:\\n    def __init__(self, data):\\n        self.data = data\\n        self.next = None\\n        \\ndef append(self, data):\\n    new_node = Node(data)\\n    if not self.head:\\n        self.head = new_node\\n    else:\\n        current = self.head\\n        while current.next:\\n            current = current.next\\n        current.next = new_node\\n        \\ndef remove(self, key):\\n    current = self.head\\n    previous = None\\n    while current:\\n        if current.data == key:\\n            if previous:\\n                previous.next = current.next\\n            else:\\n                self.head = current.next\\n            return\\n        previous = current\\n        current = current.next'"
      ]
     },
     "execution_count": 1,
     "metadata": {},
     "output_type": "execute_result"
    }
   ],
   "source": [
    "\"\"\"# Write your code HERE\n",
    "class Node:\n",
    "    def __init__(self, data):\n",
    "        self.data = data\n",
    "        self.next = None\n",
    "        \n",
    "def append(self, data):\n",
    "    new_node = Node(data)\n",
    "    if not self.head:\n",
    "        self.head = new_node\n",
    "    else:\n",
    "        current = self.head\n",
    "        while current.next:\n",
    "            current = current.next\n",
    "        current.next = new_node\n",
    "        \n",
    "def remove(self, key):\n",
    "    current = self.head\n",
    "    previous = None\n",
    "    while current:\n",
    "        if current.data == key:\n",
    "            if previous:\n",
    "                previous.next = current.next\n",
    "            else:\n",
    "                self.head = current.next\n",
    "            return\n",
    "        previous = current\n",
    "        current = current.next\"\"\""
   ]
  },
  {
   "cell_type": "code",
   "execution_count": 2,
   "metadata": {},
   "outputs": [
    {
     "name": "stdout",
     "output_type": "stream",
     "text": [
      "10\n",
      "20\n",
      "30\n"
     ]
    }
   ],
   "source": [
    "class Node:\n",
    "    def __init__(self, data):\n",
    "        self.data = data  # This holds the data\n",
    "        self.next = None  # This points to the next node, starting as None\n",
    "        \n",
    "class LinkedList:\n",
    "    def __init__(self):\n",
    "        self.head = None  # Initially, the list is empty, so head is None\n",
    "\n",
    "    def append(self, data):\n",
    "        new_node = Node(data)\n",
    "        if self.head is None:\n",
    "            self.head = new_node\n",
    "        else:\n",
    "            current = self.head\n",
    "            while current.next:  # Traverse to the end of the list\n",
    "                current = current.next\n",
    "            current.next = new_node  # Point the last node to the new node\n",
    "\n",
    "    def display(self):\n",
    "        current = self.head\n",
    "        while current:\n",
    "            print(current.data)  # Print the data of the current node\n",
    "            current = current.next  # Move to the next node\n",
    "\n",
    "# Create a linked list\n",
    "my_list = LinkedList()\n",
    "\n",
    "# Add elements to the linked list\n",
    "my_list.append(10)\n",
    "my_list.append(20)\n",
    "my_list.append(30)\n",
    "\n",
    "# Display the elements in the linked list\n",
    "my_list.display()"
   ]
  },
  {
   "cell_type": "markdown",
   "metadata": {},
   "source": [
    "\n",
    "### Exercise 2: Append a Node\n",
    "\n",
    "Write a Python program to append a new node at the end of a linked list and display the updated list.\n",
    "\n",
    "---\n"
   ]
  },
  {
   "cell_type": "code",
   "execution_count": 3,
   "metadata": {},
   "outputs": [
    {
     "name": "stdout",
     "output_type": "stream",
     "text": [
      "10\n",
      "20\n",
      "30\n",
      "40\n",
      "50\n",
      "60\n"
     ]
    }
   ],
   "source": [
    "# Write your code HERE\n",
    "\n",
    "my_list.append(40)\n",
    "my_list.append(50)\n",
    "my_list.append(60)\n",
    "\n",
    "my_list.display()"
   ]
  },
  {
   "cell_type": "markdown",
   "metadata": {},
   "source": [
    "\n",
    "### Exercise 3: Prepend a Node\n",
    "\n",
    "Write a Python program to prepend a new node at the beginning of a linked list and display the updated list.\n",
    "\n",
    "---\n"
   ]
  },
  {
   "cell_type": "code",
   "execution_count": 4,
   "metadata": {},
   "outputs": [
    {
     "name": "stdout",
     "output_type": "stream",
     "text": [
      "-10\n",
      "10\n",
      "20\n",
      "30\n",
      "40\n",
      "50\n",
      "60\n",
      "-20\n",
      "-30\n"
     ]
    }
   ],
   "source": [
    "# Write your code HERE\n",
    "\n",
    "def prepend(self, data):\n",
    "    new_node = Node(data)\n",
    "    new_node.next = self.head\n",
    "    self.head = new_node\n",
    "\n",
    "# Adding method to LinkedList class\n",
    "LinkedList.prepend = prepend\n",
    "\n",
    "# Test the prepend method\n",
    "# my_list = LinkedList()\n",
    "my_list.append(-20)\n",
    "my_list.append(-30)\n",
    "my_list.prepend(-10)  # Prepend a new node\n",
    "\n",
    "my_list.display()\n"
   ]
  },
  {
   "cell_type": "markdown",
   "metadata": {},
   "source": [
    "\n",
    "### Exercise 4: Insert a Node After a Given Node\n",
    "\n",
    "Write a Python program that inserts a new node after a specified node in the linked list and displays the updated list.\n",
    "\n",
    "---\n"
   ]
  },
  {
   "cell_type": "code",
   "execution_count": 5,
   "metadata": {},
   "outputs": [
    {
     "name": "stdout",
     "output_type": "stream",
     "text": [
      "-10\n",
      "10\n",
      "20\n",
      "2500\n",
      "30\n",
      "40\n",
      "50\n",
      "60\n",
      "-20\n",
      "-30\n"
     ]
    }
   ],
   "source": [
    "# Write your code HERE\n",
    "\n",
    "# Insert after method definition\n",
    "def insert_after(self, prev_node_data, new_data):\n",
    "    current = self.head\n",
    "    while current:\n",
    "        if current.data == prev_node_data:\n",
    "            new_node = Node(new_data)\n",
    "            new_node.next = current.next\n",
    "            current.next = new_node\n",
    "            return\n",
    "        current = current.next\n",
    "    print(f\"Node with data {prev_node_data} not found.\")\n",
    "    \n",
    "# Adding the method to LinkedList class\n",
    "LinkedList.insert_after = insert_after\n",
    "\n",
    "# Insert a node with data 25 after node with data 20\n",
    "my_list.insert_after(20, 2500)\n",
    "\n",
    "# Display the updated linked list\n",
    "my_list.display()\n",
    "\n",
    "\n"
   ]
  },
  {
   "cell_type": "markdown",
   "metadata": {},
   "source": [
    "\n",
    "### Exercise 5: Delete a Node\n",
    "\n",
    "Write a Python program to delete a specified node from the linked list and display the updated list.\n",
    "\n",
    "---\n"
   ]
  },
  {
   "cell_type": "code",
   "execution_count": 9,
   "metadata": {},
   "outputs": [
    {
     "name": "stdout",
     "output_type": "stream",
     "text": [
      "-10\n",
      "10\n",
      "2500\n",
      "30\n",
      "40\n",
      "50\n",
      "60\n",
      "-20\n",
      "-30\n"
     ]
    }
   ],
   "source": [
    "# Write your code HERE\n",
    "\n",
    "def delete_node(self, key):\n",
    "    current = self.head\n",
    "    previous = None\n",
    "\n",
    "    while current:\n",
    "        if current.data == key:\n",
    "            if previous:\n",
    "                previous.next = current.next\n",
    "            else:\n",
    "                self.head = current.next\n",
    "            return\n",
    "        previous = current\n",
    "        current = current.next\n",
    "\n",
    "    print(f\"Node with data {key} not found.\")\n",
    "\n",
    "# Adding the method to LinkedList class\n",
    "LinkedList.delete_node = delete_node\n",
    "\n",
    "# Delete a node with data 20\n",
    "my_list.delete_node(20)\n",
    "\n",
    "# Display the updated linked list\n",
    "my_list.display()\n"
   ]
  },
  {
   "cell_type": "markdown",
   "metadata": {},
   "source": [
    "\n",
    "## Bonus Exercises\n"
   ]
  },
  {
   "cell_type": "markdown",
   "metadata": {},
   "source": [
    "\n",
    "### Bonus Exercise 1: Reverse a Linked List\n",
    "\n",
    "Write a Python program that reverses the linked list and displays the reversed list.\n",
    "\n",
    "---\n"
   ]
  },
  {
   "cell_type": "code",
   "execution_count": null,
   "metadata": {},
   "outputs": [],
   "source": [
    "# Write your code HERE\n",
    "def reverse(self):\n",
    "    prev = None\n",
    "    current = self.head\n",
    "    while current is not None:\n",
    "        next_node = current.next  # Store next node\n",
    "        current.next = prev       # Reverse current node's pointer\n",
    "        prev = current            # Move pointers one step forward\n",
    "        current = next_node\n",
    "    self.head = prev  # Update head to the last processed node\n",
    "\n",
    "# Adding the method to the LinkedList class\n",
    "LinkedList.reverse = reverse\n",
    "\n",
    "# Test the `reverse` method"
   ]
  },
  {
   "cell_type": "code",
   "execution_count": 11,
   "metadata": {},
   "outputs": [
    {
     "name": "stdout",
     "output_type": "stream",
     "text": [
      "Original list:\n",
      "-10\n",
      "10\n",
      "2500\n",
      "30\n",
      "40\n",
      "50\n",
      "60\n",
      "-20\n",
      "-30\n"
     ]
    }
   ],
   "source": [
    "print(\"Original list:\")\n",
    "my_list.display()"
   ]
  },
  {
   "cell_type": "code",
   "execution_count": 12,
   "metadata": {},
   "outputs": [],
   "source": [
    "my_list.reverse()"
   ]
  },
  {
   "cell_type": "code",
   "execution_count": 13,
   "metadata": {},
   "outputs": [
    {
     "name": "stdout",
     "output_type": "stream",
     "text": [
      "\n",
      "Reversed list:\n",
      "-30\n",
      "-20\n",
      "60\n",
      "50\n",
      "40\n",
      "30\n",
      "2500\n",
      "10\n",
      "-10\n"
     ]
    }
   ],
   "source": [
    "print(\"\\nReversed list:\")\n",
    "my_list.display()"
   ]
  },
  {
   "cell_type": "markdown",
   "metadata": {},
   "source": [
    "\n",
    "### Bonus Exercise 2: Search for an Element\n",
    "\n",
    "Write a Python program that searches for an element in the linked list and returns its position if found.\n",
    "\n",
    "---\n"
   ]
  },
  {
   "cell_type": "code",
   "execution_count": 14,
   "metadata": {},
   "outputs": [],
   "source": [
    "# Write your code HERE\n",
    "\n",
    "def search(self, target):\n",
    "    current = self.head\n",
    "    position = 0\n",
    "    while current:\n",
    "        if current.data == target:\n",
    "            return position  # Return the position if found\n",
    "        current = current.next\n",
    "        position += 1\n",
    "\n",
    "    return f\"Element {target} not found in the list.\"\n",
    "\n",
    "# Adding the method to the LinkedList class\n",
    "LinkedList.search = search"
   ]
  },
  {
   "cell_type": "code",
   "execution_count": 19,
   "metadata": {},
   "outputs": [
    {
     "name": "stdout",
     "output_type": "stream",
     "text": [
      "-30\n",
      "-20\n",
      "60\n",
      "50\n",
      "40\n",
      "30\n",
      "2500\n",
      "10\n",
      "-10\n"
     ]
    }
   ],
   "source": [
    "my_list.display()"
   ]
  },
  {
   "cell_type": "code",
   "execution_count": 17,
   "metadata": {},
   "outputs": [
    {
     "name": "stdout",
     "output_type": "stream",
     "text": [
      "Element found at position: 5\n"
     ]
    }
   ],
   "source": [
    "position = my_list.search(30)\n",
    "print(f\"Element found at position: {position}\")\n"
   ]
  },
  {
   "cell_type": "code",
   "execution_count": 18,
   "metadata": {},
   "outputs": [
    {
     "name": "stdout",
     "output_type": "stream",
     "text": [
      "Element 1000 not found in the list.\n"
     ]
    }
   ],
   "source": [
    "# Search for an element not in the list\n",
    "position = my_list.search(1000)\n",
    "print(position)"
   ]
  },
  {
   "cell_type": "markdown",
   "metadata": {},
   "source": [
    "\n",
    "## Exercise Completion\n"
   ]
  },
  {
   "cell_type": "markdown",
   "metadata": {},
   "source": [
    "\n",
    "Once you have completed all exercises:\n",
    "\n",
    "- Review your solutions.\n",
    "- Ensure your code is well-documented with comments explaining your logic.\n",
    "- Save your notebook for submission or further review.\n",
    "\n",
    "Happy coding! Enjoy practicing Linked Lists in Python!\n"
   ]
  }
 ],
 "metadata": {
  "kernelspec": {
   "display_name": "base",
   "language": "python",
   "name": "python3"
  },
  "language_info": {
   "codemirror_mode": {
    "name": "ipython",
    "version": 3
   },
   "file_extension": ".py",
   "mimetype": "text/x-python",
   "name": "python",
   "nbconvert_exporter": "python",
   "pygments_lexer": "ipython3",
   "version": "3.12.7"
  }
 },
 "nbformat": 4,
 "nbformat_minor": 2
}
